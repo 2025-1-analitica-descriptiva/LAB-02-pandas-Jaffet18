{
 "cells": [
  {
   "cell_type": "code",
   "execution_count": 7,
   "id": "8ace75b7",
   "metadata": {},
   "outputs": [
    {
     "name": "stdout",
     "output_type": "stream",
     "text": [
      "40\n"
     ]
    }
   ],
   "source": [
    "\"\"\"\n",
    "Escriba el codigo que ejecute la accion solicitada en cada pregunta. Los\n",
    "datos requeridos se encuentran en los archivos `tbl0.tsv`, `tbl1.tsv` y \n",
    "`tbl2.tsv`. En este laboratorio solo puede utilizar las funciones y \n",
    "librerias de pandas para resolver las preguntas.\n",
    "\"\"\"\n",
    "\n",
    "#Se importa la librería\n",
    "import pandas as pd\n",
    "\n",
    "def pregunta_01():\n",
    "    \"\"\"\n",
    "    ¿Cuál es la cantidad de filas en la tabla `tbl0.tsv`?\n",
    "\n",
    "    Rta/\n",
    "    40\n",
    "\n",
    "    \"\"\"\n",
    "\n",
    "    # Carga de archivo D:\\GitHub\\LABORATORIOS\\LAB-02-pandas-Jaffet18\\files\\input\\tbl0.tsv\n",
    "    df = pd.read_csv('../files/input/tbl0.tsv', sep='\\t')\n",
    "\n",
    "    # Se cuenta la cantidad de filas\n",
    "    num_rows = df.shape[0]\n",
    "\n",
    "    return num_rows\n",
    "\n",
    "print(pregunta_01())"
   ]
  },
  {
   "cell_type": "code",
   "execution_count": 8,
   "id": "c910042a",
   "metadata": {},
   "outputs": [
    {
     "name": "stdout",
     "output_type": "stream",
     "text": [
      "4\n"
     ]
    }
   ],
   "source": [
    "\"\"\"\n",
    "Escriba el codigo que ejecute la accion solicitada en cada pregunta. Los\n",
    "datos requeridos se encuentran en los archivos `tbl0.tsv`, `tbl1.tsv` y \n",
    "`tbl2.tsv`. En este laboratorio solo puede utilizar las funciones y \n",
    "librerias de pandas para resolver las preguntas.\n",
    "\"\"\"\n",
    "\n",
    "# Se importa la librería\n",
    "import pandas as pd\n",
    "\n",
    "def pregunta_02():\n",
    "    \"\"\"\n",
    "    ¿Cuál es la cantidad de columnas en la tabla `tbl0.tsv`?\n",
    "\n",
    "    Rta/\n",
    "    4\n",
    "\n",
    "    \"\"\"\n",
    "\n",
    "    # Cargar el archivo tbl0.tsv\n",
    "    df = pd.read_csv('../files/input/tbl0.tsv', sep='\\t')\n",
    "\n",
    "    # Contar la cantidad de columnas\n",
    "    num_columns = df.shape[1]\n",
    "\n",
    "    return num_columns\n",
    "\n",
    "print(pregunta_02())\n"
   ]
  },
  {
   "cell_type": "code",
   "execution_count": 9,
   "id": "b976a359",
   "metadata": {},
   "outputs": [
    {
     "name": "stdout",
     "output_type": "stream",
     "text": [
      "c1\n",
      "E    14\n",
      "A     8\n",
      "B     7\n",
      "D     6\n",
      "C     5\n",
      "Name: count, dtype: int64\n"
     ]
    }
   ],
   "source": [
    "\"\"\"\n",
    "Escriba el codigo que ejecute la accion solicitada en cada pregunta. Los\n",
    "datos requeridos se encuentran en los archivos `tbl0.tsv`, `tbl1.tsv` y \n",
    "`tbl2.tsv`. En este laboratorio solo puede utilizar las funciones y \n",
    "librerias de pandas para resolver las preguntas.\n",
    "\"\"\"\n",
    "\n",
    "import pandas as pd\n",
    "\n",
    "def pregunta_03():\n",
    "    \"\"\"\n",
    "    ¿Cuál es la cantidad de registros por cada letra de la columna `c1` del\n",
    "    archivo `tbl0.tsv`?\n",
    "\n",
    "    Rta/\n",
    "    c1\n",
    "    A     8\n",
    "    B     7\n",
    "    C     5\n",
    "    D     6\n",
    "    E    14\n",
    "    Name: count, dtype: int64\n",
    "\n",
    "    \"\"\"\n",
    "\n",
    "    # Cargar el archivo tbl0.tsv\n",
    "    df = pd.read_csv('../files/input/tbl0.tsv', sep='\\t')\n",
    "\n",
    "    # Contar la cantidad de registros por cada letra de la columna c1\n",
    "    count_by_letter = df['c1'].value_counts()\n",
    "\n",
    "    return count_by_letter\n",
    "\n",
    "print(pregunta_03())\n"
   ]
  },
  {
   "cell_type": "code",
   "execution_count": null,
   "id": "244c34f3",
   "metadata": {},
   "outputs": [],
   "source": [
    "\"\"\"\n",
    "Escriba el codigo que ejecute la accion solicitada en cada pregunta. Los\n",
    "datos requeridos se encuentran en los archivos `tbl0.tsv`, `tbl1.tsv` y \n",
    "`tbl2.tsv`. En este laboratorio solo puede utilizar las funciones y \n",
    "librerias de pandas para resolver las preguntas.\n",
    "\"\"\"\n",
    "\n",
    "import pandas as pd\n",
    "\n",
    "def pregunta_03():\n",
    "    \"\"\"\n",
    "    ¿Cuál es la cantidad de registros por cada letra de la columna `c1` del\n",
    "    archivo `tbl0.tsv`?\n",
    "\n",
    "    Rta/\n",
    "    c1\n",
    "    A     8\n",
    "    B     7\n",
    "    C     5\n",
    "    D     6\n",
    "    E    14\n",
    "    Name: count, dtype: int64\n",
    "\n",
    "    \"\"\"\n",
    "\n",
    "    # Cargar el archivo tbl0.tsv\n",
    "    df = pd.read_csv('../files/input/tbl0.tsv', sep='\\t')\n",
    "\n",
    "    # Contar la cantidad de registros por cada letra de la columna c1\n",
    "    count_by_letter = df['c1'].value_counts()\n",
    "\n",
    "    return count_by_letter\n",
    "\n",
    "print(pregunta_03())\n"
   ]
  }
 ],
 "metadata": {
  "kernelspec": {
   "display_name": ".venv",
   "language": "python",
   "name": "python3"
  },
  "language_info": {
   "codemirror_mode": {
    "name": "ipython",
    "version": 3
   },
   "file_extension": ".py",
   "mimetype": "text/x-python",
   "name": "python",
   "nbconvert_exporter": "python",
   "pygments_lexer": "ipython3",
   "version": "3.13.3"
  }
 },
 "nbformat": 4,
 "nbformat_minor": 5
}
